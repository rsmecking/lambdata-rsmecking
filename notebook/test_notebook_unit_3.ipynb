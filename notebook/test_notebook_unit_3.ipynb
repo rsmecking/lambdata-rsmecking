{
  "nbformat": 4,
  "nbformat_minor": 0,
  "metadata": {
    "kernelspec": {
      "display_name": "Python 3",
      "language": "python",
      "name": "python3"
    },
    "language_info": {
      "codemirror_mode": {
        "name": "ipython",
        "version": 3
      },
      "file_extension": ".py",
      "mimetype": "text/x-python",
      "name": "python",
      "nbconvert_exporter": "python",
      "pygments_lexer": "ipython3",
      "version": "3.7.4"
    },
    "colab": {
      "name": "Copy of test_notebook_unit_3.ipynb",
      "provenance": [],
      "include_colab_link": true
    }
  },
  "cells": [
    {
      "cell_type": "markdown",
      "metadata": {
        "id": "view-in-github",
        "colab_type": "text"
      },
      "source": [
        "<a href=\"https://colab.research.google.com/github/rsmecking/lambdata-rsmecking/blob/master/notebook/test_notebook_unit_3.ipynb\" target=\"_parent\"><img src=\"https://colab.research.google.com/assets/colab-badge.svg\" alt=\"Open In Colab\"/></a>"
      ]
    },
    {
      "cell_type": "code",
      "metadata": {
        "id": "mx9uElU2ZLVf",
        "colab_type": "code",
        "outputId": "eaf541d9-976a-4e95-8a63-0734fa56db25",
        "colab": {}
      },
      "source": [
        "pip install -i https://test.pypi.org/simple/ rsmecking-lambdata-12==1.0"
      ],
      "execution_count": 0,
      "outputs": [
        {
          "output_type": "stream",
          "text": [
            "Looking in indexes: https://test.pypi.org/simple/\n",
            "Requirement already satisfied: rsmecking-lambdata-12==1.0 in e:\\anaconda3\\lib\\site-packages (1.0)\n",
            "Note: you may need to restart the kernel to use updated packages.\n"
          ],
          "name": "stdout"
        }
      ]
    },
    {
      "cell_type": "code",
      "metadata": {
        "id": "UxtSHyXSZLVk",
        "colab_type": "code",
        "outputId": "932a9e99-affe-4ffd-9bbf-158f9023e339",
        "colab": {}
      },
      "source": [
        "from my_lambdata.my_mod import enlarge"
      ],
      "execution_count": 0,
      "outputs": [
        {
          "output_type": "stream",
          "text": [
            "HELLO\n",
            "Please choose a number5\n",
            "\n"
          ],
          "name": "stdout"
        }
      ]
    },
    {
      "cell_type": "code",
      "metadata": {
        "id": "gYscbSgYZLVn",
        "colab_type": "code",
        "outputId": "0ed523fb-2edc-4a3a-8705-fc8568988656",
        "colab": {}
      },
      "source": [
        "enlarge(60)"
      ],
      "execution_count": 0,
      "outputs": [
        {
          "output_type": "execute_result",
          "data": {
            "text/plain": [
              "6000"
            ]
          },
          "metadata": {
            "tags": []
          },
          "execution_count": 26
        }
      ]
    },
    {
      "cell_type": "code",
      "metadata": {
        "id": "gzF5ijuDZOkk",
        "colab_type": "code",
        "colab": {
          "base_uri": "https://localhost:8080/",
          "height": 122
        },
        "outputId": "bb336987-dd1c-440e-9a83-e8fd7b191b2a"
      },
      "source": [
        "pip install -i https://test.pypi.org/simple/ rsmecking-lambdata"
      ],
      "execution_count": 1,
      "outputs": [
        {
          "output_type": "stream",
          "text": [
            "Looking in indexes: https://test.pypi.org/simple/\n",
            "Collecting rsmecking-lambdata\n",
            "  Downloading https://test-files.pythonhosted.org/packages/12/47/843f98ba401734f82c39edb7b4736d2e6b123812d60aa39bf8dd92d4cd2d/rsmecking_lambdata-2.55-py3-none-any.whl\n",
            "Installing collected packages: rsmecking-lambdata\n",
            "Successfully installed rsmecking-lambdata-2.55\n"
          ],
          "name": "stdout"
        }
      ]
    },
    {
      "cell_type": "code",
      "metadata": {
        "id": "Gjr6IVWgZUdk",
        "colab_type": "code",
        "colab": {}
      },
      "source": [
        "import my_lambdata.clothes as clothes "
      ],
      "execution_count": 0,
      "outputs": []
    },
    {
      "cell_type": "code",
      "metadata": {
        "id": "uBf33Li2bQKG",
        "colab_type": "code",
        "colab": {
          "base_uri": "https://localhost:8080/",
          "height": 34
        },
        "outputId": "98ab2636-363a-4213-b9ac-69a34474f814"
      },
      "source": [
        "x = clothes.Polo(style=\"Sheek\", size=\"L\", color=\"Blue\")\n",
        "print(x.style)"
      ],
      "execution_count": 3,
      "outputs": [
        {
          "output_type": "stream",
          "text": [
            "Sheek\n"
          ],
          "name": "stdout"
        }
      ]
    },
    {
      "cell_type": "code",
      "metadata": {
        "id": "XJ3wW_Q1bUQM",
        "colab_type": "code",
        "colab": {
          "base_uri": "https://localhost:8080/",
          "height": 34
        },
        "outputId": "76f68196-cfd0-4c47-ca61-16fd7c806a7b"
      },
      "source": [
        "x.pop_collar()"
      ],
      "execution_count": 4,
      "outputs": [
        {
          "output_type": "stream",
          "text": [
            "POPPING THIS COLLAR\n"
          ],
          "name": "stdout"
        }
      ]
    },
    {
      "cell_type": "code",
      "metadata": {
        "id": "gjNN8kf0bZet",
        "colab_type": "code",
        "colab": {}
      },
      "source": [
        ""
      ],
      "execution_count": 0,
      "outputs": []
    }
  ]
}